{
 "cells": [
  {
   "cell_type": "markdown",
   "metadata": {},
   "source": [
    "# Lab05:  Mô Hình Hồi Quy Tuyến Tính\n",
    "## Phân lớp văn bản với kĩ thuật bình phương tối tiểu\n",
    "Courses `MTH00051`: Toán ứng dụng và thống kê\n",
    "`18CLC6`, `FIT - HCMUS`.\n",
    "`11/09/2020`\n",
    "\n",
    "Đây là đồ án cá nhân, do một thành viên thực hiện:\n",
    "-   `18127231`: Đoàn Đình Toàn (GitHub: [@t3bol90](https://github.com/t3bol90))\n"
   ]
  },
  {
   "cell_type": "code",
   "execution_count": 1,
   "metadata": {},
   "outputs": [],
   "source": [
    "# DON'T CHANGE this part: import libraries\n",
    "import numpy as np\n",
    "import scipy\n",
    "import json\n",
    "from nltk.stem import PorterStemmer \n",
    "from nltk.corpus import stopwords\n",
    "from nltk.tokenize import word_tokenize \n",
    "import re\n",
    "import itertools"
   ]
  },
  {
   "cell_type": "code",
   "execution_count": 2,
   "metadata": {},
   "outputs": [
    {
     "name": "stdin",
     "output_type": "stream",
     "text": [
      " train.json valid.json 69\n"
     ]
    }
   ],
   "source": [
    "# DON'T CHANGE this part: read data path\n",
    "train_set_path, valid_set_path, random_number = input().split()"
   ]
  },
  {
   "cell_type": "markdown",
   "metadata": {},
   "source": [
    "## 1. Xử lý dữ liệu dạng văn bản:"
   ]
  },
  {
   "cell_type": "markdown",
   "metadata": {},
   "source": [
    "Đầu tiên ta cần đọc data vào, sau khi sử dụng json để load file lên thì ta tách ra hai cột cần thiết cho bài toán là cột 'reviewText' và cột 'overall' (đối với cả tập train và tập valid)."
   ]
  },
  {
   "cell_type": "code",
   "execution_count": 3,
   "metadata": {},
   "outputs": [],
   "source": [
    "def load_data(path):\n",
    "    \"\"\"\n",
    "    load_data split 'reviewText', 'overall' as values list for training/validation.\n",
    "    :param path: directory of json file.\n",
    "    :return text: list of string as document.\n",
    "    :return overall: label for each document's overall.\n",
    "    \"\"\"\n",
    "    test = json.load(open(path))\n",
    "    texts = [element['reviewText'] for element in test]\n",
    "    overall = [element['overall'] for element in test]\n",
    "    return texts, overall"
   ]
  },
  {
   "cell_type": "code",
   "execution_count": 4,
   "metadata": {},
   "outputs": [],
   "source": [
    "train_text, train_overall = load_data(train_set_path)\n",
    "test_text, test_overall   = load_data(valid_set_path)"
   ]
  },
  {
   "cell_type": "markdown",
   "metadata": {},
   "source": [
    "Sơ lược qua thì các bước cần làm theo thứ tự là: [convert number], [tokenizer], [stopwords], [stemming]. Tiền xử lí lại chia làm 2 phần cho hai giai đoạn là train và valid nên các phần sau đây sẽ trình bày từ lúc tiền xử lí cho tới lúc ra được các vector histogram."
   ]
  },
  {
   "cell_type": "markdown",
   "metadata": {},
   "source": [
    "Đầu tiên để phục vụ cho phần đầu tiên của tiền xử lí là loại bỏ số ra khỏi văn bản, ban đầu em tính sử dụng `regex`, nhưng với sự mu muội ban đầu thì regex đã làm quá tốt phần của mình (với pattern`^[-+]?\\d+$`) để trim tất cả các số nguyên ra khỏi chuỗi. Nhưng sau cùng thì nhận ra là yêu cầu đơn giản hơn thế rất nhiều, ta chỉ cần chuyển các word là số về 'num'. Do đó 2 hàm bên dưới viết ra với mục đích kiểm tra xem chuỗi nhập vào có phải là số hay không. (Nguồn: Loot từ [stackoverflow](https://stackoverflow.com/questions/1265665/how-can-i-check-if-a-string-represents-an-int-without-using-try-except/1267145#1267145))"
   ]
  },
  {
   "cell_type": "code",
   "execution_count": 5,
   "metadata": {},
   "outputs": [],
   "source": [
    "def RepresentsInt(s):\n",
    "    \"\"\"\n",
    "    RepresentsInt check if a string is a integer or not.\n",
    "    :param s: string\n",
    "    :return: is_integer?\n",
    "    \"\"\"\n",
    "    try: \n",
    "        int(s)\n",
    "        return True\n",
    "    except ValueError:\n",
    "        return False\n",
    "def RepresentsFloat(s):\n",
    "    \"\"\"\n",
    "    RepresentsFloat check if a string is a float or not.\n",
    "    :param s: string\n",
    "    :return: is_float?\n",
    "    \"\"\"\n",
    "    try: \n",
    "        float(s)\n",
    "        return True\n",
    "    except ValueError:\n",
    "        return False"
   ]
  },
  {
   "cell_type": "markdown",
   "metadata": {},
   "source": [
    "Để thực hiện tiền xử lí, từ được đưa qua các bước như sau:\n",
    "\n",
    "- Chuyển thành chữ in thường:\n",
    "    Sử dụng method lower() của str.\n",
    "- Chuyển chuỗi số thành 'num':\n",
    "    Sử dụng hai hàm `RepresentsInt` và `RepresentsFloat` đã được viết ở trên, ta có thể thực hiện forloop qua các word của chuỗi và chuyển đổi chung thành 'num'.\n",
    "- Phân tách thành các thành phần:\n",
    "    Sử dụng hàm word_tokenize của nltk.\n",
    "- Loại bỏ các stopwords như a, an, the...:\n",
    "    Sử dụng list stopwords của tiếng Anh từ thư viện nltk, ta thực hiện forloop qua các word của chuỗi và chỉ giữ lại các từ không nằm trong stopwords list.\n",
    "- Stemming:\n",
    "    Sử dụng PorterStemmer của nltk làm stemmer, tiến hành stem lần lượt các từ trong document."
   ]
  },
  {
   "cell_type": "markdown",
   "metadata": {},
   "source": [
    "[!] Lưu ý:\n",
    "- Ở đây stopWords và stemmer được đặt ở global vì bản chất của chúng không thay đổi, nên việc này có thể cải thiện hiệu suất của quá trình preprocessing lên rất nhiều. (Cụ thể performance hiện tại là 3.8s cho tất cả test và train data, trong khi nếu ta đặt vào thì bước này có thể lên tới 4xs).\n",
    "- Bộ stopwords của nltk cần phải tải về, nếu chạy ra lỗi chưa tải bộ stopword, vui lòng sử dụng dòng lệnh sau (vì đề không cho import thêm thư viện nếu không thì cũng xử lí ở đây luôn cũng được).\n",
    "```python\n",
    "import nltk\n",
    "nltk.download('stopwords')\n",
    "nltk.download('punkt')\n",
    "```"
   ]
  },
  {
   "cell_type": "code",
   "execution_count": 6,
   "metadata": {},
   "outputs": [],
   "source": [
    "stopWords = set(stopwords.words('english')) # stopword dictionary for english\n",
    "stemmer = PorterStemmer()                   # stemmer for english\n",
    "\n",
    "def preprocess(text, state=False):\n",
    "    \"\"\"\n",
    "    :preprocess: converting text to lowercase, coverting number, tokenization, removing stopword, stemming.\n",
    "    :param: text: str for preprocessing - it can be from train/test data.\n",
    "    :param: state: is preprocessing for word set (return a set) or document embedding (return a list).\n",
    "    :return: state=False -> set - bag-of-word of text after preprocess.\n",
    "             state=True -> list - list word of text after preprocess.\n",
    "    \"\"\"\n",
    "    # converting text to lowercase\n",
    "    text = text.lower()\n",
    "    \n",
    "    # converting number -> 'num'\n",
    "    numalpha = []\n",
    "    for t in text.split():\n",
    "        if RepresentsInt(t) or RepresentsFloat(t):\n",
    "            numalpha.append('num')\n",
    "        else:\n",
    "            numalpha.append(t)\n",
    "    text = ' '.join(numalpha)\n",
    "    \n",
    "    # tokenization\n",
    "    text = word_tokenize(text)\n",
    "    \n",
    "    # remove stopwords\n",
    "    words_filter = []\n",
    "    for w in text:\n",
    "        if w not in stopWords:\n",
    "            words_filter.append(w)\n",
    "    result = []\n",
    "    \n",
    "    # stemming \n",
    "    if not state:\n",
    "        stemmed_word = set()\n",
    "        for w in words_filter:\n",
    "            stemmed_word.add(stemmer.stem(w))\n",
    "        result = stemmed_word\n",
    "    if state:\n",
    "        stemmed_word = []\n",
    "        for w in words_filter:\n",
    "            stemmed_word.append(stemmer.stem(w))\n",
    "        result = stemmed_word\n",
    "        \n",
    "    return result"
   ]
  },
  {
   "cell_type": "markdown",
   "metadata": {},
   "source": [
    "Kế tiếp, ta cần dựng lên vocab hay bag-of-word, từ điển đối với các từ của tập train. Tiến hành preprocess đối với từng document trong tập train sau đó đổ dồn chúng vào một set ta sẽ có được list vocabulary."
   ]
  },
  {
   "cell_type": "code",
   "execution_count": 7,
   "metadata": {},
   "outputs": [],
   "source": [
    "def get_setdata(text_list):\n",
    "    \"\"\"\n",
    "    get_setdata return a bag-of-word of train data.\n",
    "    :param text_list: train list of str as documents.\n",
    "    :return: a set as bag-of-word.\n",
    "    \"\"\"\n",
    "    word_set = set()\n",
    "    for text in text_list:\n",
    "        word_set = word_set|preprocess(text)\n",
    "    return word_set"
   ]
  },
  {
   "cell_type": "markdown",
   "metadata": {},
   "source": [
    "Sau khi tạo được word_set cho tập train, ta tiến hành thêm từ 'unk' vào và sau đó sort lại word_set với mục đích là giữ một thứ tự đồng nhất khi chuyển đổi giữa các trường/tập dữ liệu với nhau. Vì cơ bản set và dict của python implement bên dưới theo phương pháp hashing nên sẽ không giữ được thứ tự khi chuyển đổi, dẫn đến khó xử lí cho bước build ra histogram vector. Để dạng list và có thứ tự sort vẫn là một giải pháp có thể chấp nhận được."
   ]
  },
  {
   "cell_type": "code",
   "execution_count": 8,
   "metadata": {},
   "outputs": [],
   "source": [
    "word_set = get_setdata(train_text)\n",
    "word_set.add('unk')\n",
    "word_set = sorted(word_set)"
   ]
  },
  {
   "cell_type": "markdown",
   "metadata": {},
   "source": [
    "Kế tiếp, ta tiến hành 'nhúng' các document của tập train vào trong word_set để tạo ra các histogram vector. Hàm `document_embedding` bên dưới có khả năng trả ra histogram vector của một document, với n documents từ tập train, ta chạy vòng for n lần để có được tất cả các histogram vector của cả tập."
   ]
  },
  {
   "cell_type": "markdown",
   "metadata": {},
   "source": [
    "Sơ qua về histogram vector, ở đây đơn giản chỉ là vector tần suất của các word xuất hiện trong document dựa trên tập vocab. Vector tần suất này được chuẩn hóa bằng cách chia lại cho một scalar là tổng của các giá trị trong vector để shift về khoảng [0,1]."
   ]
  },
  {
   "cell_type": "code",
   "execution_count": 9,
   "metadata": {},
   "outputs": [],
   "source": [
    "def document_embedding(vocab_set, document):\n",
    "    \"\"\"\n",
    "    document_embedding return a histogram vector of train document\n",
    "    :param vocab_set: a set as bag-of-word for document embeding\n",
    "    :param document: a str represent document - review from user\n",
    "    :return: a histogram vector (m,1) with m is size of vocab_set and sum = 1\n",
    "    \"\"\"\n",
    "    vocab_list = {word: 0 for word in vocab_set}\n",
    "    doc_set = preprocess(document,True)\n",
    "    for word in doc_set:\n",
    "        vocab_list[word] += 1\n",
    "    vocab_list = np.array(list(vocab_list.values()))\n",
    "    return np.divide(vocab_list,sum(vocab_list))"
   ]
  },
  {
   "cell_type": "code",
   "execution_count": 10,
   "metadata": {},
   "outputs": [],
   "source": [
    "# Get histogram vector from all input\n",
    "historgrams = []\n",
    "for doc in train_text:\n",
    "    vector = document_embedding(word_set,doc)\n",
    "    historgrams.append(vector)"
   ]
  },
  {
   "cell_type": "markdown",
   "metadata": {},
   "source": [
    "Ta cũng phải nhúng các document của tập valid vào trong word_set, vì các document của tập valid có thể có chứa các ký tự lạ nên bước chuyển các kí tự lạ cũng được thực hiện ở đây. `document_inference` trả về một histogram vector từ tập valid và thêm một doc_set chính là list từ của document trong tập valid sau khi preprocessing."
   ]
  },
  {
   "cell_type": "code",
   "execution_count": 11,
   "metadata": {},
   "outputs": [],
   "source": [
    "def document_inference(vocab_set, document):\n",
    "    \"\"\"\n",
    "    document_inference return a histogram vector of validate document.\n",
    "    :param vocab_set: a set as bag-of-word for document embeding.\n",
    "    :param document: a str represent document - review from user.\n",
    "    :return vector: a histogram vector (m,1) with m is size of vocab_set and sum = 1.\n",
    "    :return doc_set: a list of document's words after preprocessing.\n",
    "    \"\"\"\n",
    "    vocab_list = {word: 0 for word in vocab_set}\n",
    "    doc_set = preprocess(document,True)\n",
    "    for i in range(len(doc_set)):\n",
    "        if doc_set[i] not in vocab_set:\n",
    "            doc_set[i] = 'unk'\n",
    "        vocab_list[doc_set[i]] += 1\n",
    "    vocab_list = np.array(list(vocab_list.values()))\n",
    "    return np.divide(vocab_list,sum(vocab_list)), doc_set"
   ]
  },
  {
   "cell_type": "code",
   "execution_count": 12,
   "metadata": {},
   "outputs": [],
   "source": [
    "# Get histogram vector from all valid data\n",
    "historgrams_valid = []\n",
    "preprocessing_docs = []\n",
    "for doc in test_text:\n",
    "    vector, doc_set = document_inference(word_set,doc)\n",
    "    historgrams_valid.append(vector)\n",
    "    preprocessing_docs.append(doc_set)"
   ]
  },
  {
   "cell_type": "markdown",
   "metadata": {},
   "source": [
    "In ra đoạn sau khi preprocess theo con số random đọc từ người chấm bài."
   ]
  },
  {
   "cell_type": "code",
   "execution_count": 13,
   "metadata": {},
   "outputs": [
    {
     "name": "stdout",
     "output_type": "stream",
     "text": [
      "['must', 'tool', 'needl', 'felt', '!', 'great', 'qualiti', 'work', 'wonder', '!', 'real', 'time', 'saver', '!']\n"
     ]
    }
   ],
   "source": [
    "print(preprocessing_docs[int(random_number)])"
   ]
  },
  {
   "cell_type": "markdown",
   "metadata": {},
   "source": [
    "## 2. Sử dụng mô hình hồi quy tuyến tính dùng bình phương tối tiểu"
   ]
  },
  {
   "cell_type": "markdown",
   "metadata": {},
   "source": [
    "Để xây dựng mô hình $y = ax + b$ hay $y = \\theta_{0} + \\theta_{1}x$. Ta tiến hành lập ma trận A và ma trận b sao cho:\n",
    "$$\n",
    "Ax = b\n",
    "$$"
   ]
  },
  {
   "cell_type": "code",
   "execution_count": 14,
   "metadata": {},
   "outputs": [],
   "source": [
    "def get_model(historgrams, predict):\n",
    "    \"\"\"\n",
    "    get_model return matrix A (n,m+1) as a weight matrix for regression and b as predicted label of training documents.\n",
    "    :param histograms: a list of histogram vector from trainning documents.\n",
    "    :param predict: label of training documents (rating/overall).\n",
    "    :return: A (n,m+1), b(n,5) with 5 is hardcoded as number of value in labels\n",
    "    \"\"\"\n",
    "    col1 = np.ones((len(predict),1))\n",
    "    colx = np.array(historgrams)\n",
    "    A = np.hstack((col1,colx))\n",
    "    b = np.zeros((len(predict),5))\n",
    "    for i in range(len(predict)):\n",
    "        b[i][int(predict[i]-1)] = 1.0\n",
    "    return A, b"
   ]
  },
  {
   "cell_type": "markdown",
   "metadata": {},
   "source": [
    "Xây dựng hàm `get_model` trả về ma trận $A$, và ma trận $b$. Ma trận $A$ có được bằng cách ghép cột (n,1) toàn số 1 vào các histograms của tập train. Do đó ma trận $A$ sẽ có chiều (n,m+1). Kế đến ma trận $b$, ma trận $b$ có được bằng cách chuẩn hóa label tương ứng với index của label đó trong vector xác suất của document đó trong ma trận $b$. Giả sử ta có label của document thứ i là 5 thì b[i] = [0,0,0,0,1]. Như vậy chiều của $b$ là (n,5)."
   ]
  },
  {
   "cell_type": "code",
   "execution_count": 15,
   "metadata": {},
   "outputs": [],
   "source": [
    "def get_A_valid(historgrams):\n",
    "    \"\"\"\n",
    "    get_A_valid return matrix A (n,m+1) as a weight matrix for regression.\n",
    "    :param histograms: a list of histogram vector from validate documents.\n",
    "    :return: matrix A (n,m+1)\n",
    "    \"\"\"\n",
    "    col1 = np.ones((len(historgrams),1))\n",
    "    colx = np.array(historgrams)\n",
    "    A = np.hstack((col1,colx))\n",
    "    return A"
   ]
  },
  {
   "cell_type": "markdown",
   "metadata": {},
   "source": [
    "Ta cũng xây dựng một ma trận $A$ tương ứng cho tập valid."
   ]
  },
  {
   "cell_type": "code",
   "execution_count": 16,
   "metadata": {},
   "outputs": [],
   "source": [
    "A, b = get_model(historgrams, train_overall)"
   ]
  },
  {
   "cell_type": "code",
   "execution_count": 17,
   "metadata": {},
   "outputs": [],
   "source": [
    "A_valid = get_A_valid(historgrams_valid)"
   ]
  },
  {
   "cell_type": "markdown",
   "metadata": {},
   "source": [
    "$$\n",
    "\\hat{x} = A^\\dagger.b\n",
    "$$\n",
    "Do $A$ có chiều là (n,m+1), pseudo invese của $A$ hay $A^\\dagger$ có số chiều là (m+1,n) và $b$ có chiều là (n,5) nên ta sẽ có $\\hat{x}$ sẽ có số chiều là (m+1,5).\n",
    "*Không hiểu sao nhưng tính cái pinv(A) trên Ubuntu rất chậm. Chuyển sang máy của bạn mình xài Windows thì lại chỉ còn 52s. Trong khi mình time tầm ~4min.*"
   ]
  },
  {
   "cell_type": "code",
   "execution_count": 18,
   "metadata": {},
   "outputs": [],
   "source": [
    "x_hat = np.linalg.pinv(A) @ b"
   ]
  },
  {
   "cell_type": "markdown",
   "metadata": {},
   "source": [
    "Sau đó tiến hành fit vào tập valid:\n",
    "$$\n",
    "y_{\\text{predict}} = A_\\text{valid}.\\hat{x}\n",
    "$$\n",
    "\n",
    "Trong đó thì do $\\hat{x}$ có số chiều là (m+1,5) tương ứng với $\\theta_{0}$ có chiều (1,5) và $\\theta_{1}$ có chiều (m,5). $A_\\text{valid}$ có chiều (n,m+1) do đó $y_{\\text{predict}}$ sẽ có chiều (n,5). Mỗi dòng của $y_{\\text{predict}}$ là một vector tương ứng với label predicted."
   ]
  },
  {
   "cell_type": "code",
   "execution_count": 19,
   "metadata": {},
   "outputs": [],
   "source": [
    "y_pred = A_valid @ x_hat"
   ]
  },
  {
   "cell_type": "markdown",
   "metadata": {},
   "source": [
    "## 3. Sử dụng độ chính xác để đánh giá mô hình"
   ]
  },
  {
   "cell_type": "markdown",
   "metadata": {},
   "source": [
    "Đưa y_predict qua lớp softmax, ta sẽ có được label tương ứng với từng document. Ở đây lưu ý là ta +1 vì ở trên lúc tiền xử lí ta có -1 của cột predict đi để chuẩn hóa thành index của mảng (index đếm từ 0)."
   ]
  },
  {
   "cell_type": "code",
   "execution_count": 20,
   "metadata": {},
   "outputs": [],
   "source": [
    "y_label = np.argmax(scipy.special.softmax(y_pred, axis = 1), axis = 1) + 1"
   ]
  },
  {
   "cell_type": "markdown",
   "metadata": {},
   "source": [
    "Tính accuracy bằng cách lấy $y_\\text{label}$ trừ đi $y_\\text{ground truth}$ sau đó đếm các ô không phải là 0 (nghĩa là các ô không đúng) sau đó chia cho tổng số document trong tập valid. Bằng cách này, ta có được tỉ lệ lỗi trên tập label. Lấy 1 trừ đi tỉ lệ này sẽ ra accuracy của model."
   ]
  },
  {
   "cell_type": "code",
   "execution_count": 21,
   "metadata": {},
   "outputs": [],
   "source": [
    "arc = 1 - np.count_nonzero(y_label - np.array(test_overall,dtype=np.int8))/len(test_overall)"
   ]
  },
  {
   "cell_type": "markdown",
   "metadata": {},
   "source": [
    "Tèn tenn, in ra kết quả hoy."
   ]
  },
  {
   "cell_type": "code",
   "execution_count": 22,
   "metadata": {},
   "outputs": [
    {
     "name": "stdout",
     "output_type": "stream",
     "text": [
      "M2 - 0.506\n"
     ]
    }
   ],
   "source": [
    "print(f'M2 - {arc}')"
   ]
  },
  {
   "cell_type": "markdown",
   "metadata": {},
   "source": [
    "## 4. Kết luận:"
   ]
  },
  {
   "cell_type": "markdown",
   "metadata": {},
   "source": [
    "Mô hình trên được xây dựng và tuân theo yêu cầu đề bài của bài thực hành này. Điều này đồng nghĩa với việc không có thêm các thao tác khác khi preprecessing (các kỹ thuật của NLP). Ở model chỉ dùng model $y = ax + b$ chứ không dùng model khác. Do đó, accuracy có thể chấp nhận được với model này.\n",
    "\n",
    "Bài lab này khá thú vị vì việc không sử dung thư viện skitlearn đã giúp chúng em tính chiều của ma trận một cách kỹ càng trước khi thực hiện phép nhân. Một lần nữa, em cảm thấy như mình tiến sâu hơn và hiểu hơn về model mà mình vẫn thường gọi một dòng lệnh trong skitlearn nó làm như thế nào.\n",
    "\n",
    "\n",
    "Chân thành cảm ơn đội ngũ TA, đặc biệt là cô Trần Thị Thảo Nhi đã không quản ngày đêm reply mail của em. Cảm ơn giảng viên giảng dạy bộ môn, thầy Bùi Huy Thông. Hẹn gặp mọi người ở một môn khác."
   ]
  }
 ],
 "metadata": {
  "kernelspec": {
   "display_name": "Python 3",
   "language": "python",
   "name": "python3"
  },
  "language_info": {
   "codemirror_mode": {
    "name": "ipython",
    "version": 3
   },
   "file_extension": ".py",
   "mimetype": "text/x-python",
   "name": "python",
   "nbconvert_exporter": "python",
   "pygments_lexer": "ipython3",
   "version": "3.7.6"
  }
 },
 "nbformat": 4,
 "nbformat_minor": 4
}
